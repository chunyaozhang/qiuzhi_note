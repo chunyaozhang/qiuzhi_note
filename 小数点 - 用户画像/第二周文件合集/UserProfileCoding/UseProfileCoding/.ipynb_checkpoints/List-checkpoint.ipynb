{
 "cells": [
  {
   "cell_type": "markdown",
   "metadata": {},
   "source": [
    "# 一、列表的一般形式"
   ]
  },
  {
   "cell_type": "code",
   "execution_count": 1,
   "metadata": {},
   "outputs": [
    {
     "name": "stdout",
     "output_type": "stream",
     "text": [
      "[1, 2, 3, 4]\n"
     ]
    }
   ],
   "source": [
    "# 一对方括号组成的有序集合\n",
    "a=[1,2,3,4] \n",
    "print(a) # 运行结果：[1, 2, 3, 4]"
   ]
  },
  {
   "cell_type": "markdown",
   "metadata": {},
   "source": [
    "# 二、列表基本操作"
   ]
  },
  {
   "cell_type": "markdown",
   "metadata": {},
   "source": [
    "## 2.1 列表合并和重复"
   ]
  },
  {
   "cell_type": "code",
   "execution_count": 4,
   "metadata": {},
   "outputs": [
    {
     "name": "stdout",
     "output_type": "stream",
     "text": [
      "[1, 3, 2, 7, 6, 8]\n",
      "['hi', 'hi', 'hi', 'hi']\n"
     ]
    }
   ],
   "source": [
    "a=[1,3,2]\n",
    "b=[7,6,8]\n",
    "print(a+b) # 运行结果：[1, 3, 2, 7, 6, 8]\n",
    "c=['hi']*4\n",
    "print(c) # 运行结果：['hi', 'hi', 'hi', 'hi']"
   ]
  },
  {
   "cell_type": "markdown",
   "metadata": {},
   "source": [
    "##  2.2 索引"
   ]
  },
  {
   "cell_type": "code",
   "execution_count": 10,
   "metadata": {},
   "outputs": [
    {
     "name": "stdout",
     "output_type": "stream",
     "text": [
      "1\n",
      "4\n",
      "bird\n",
      "bird\n"
     ]
    }
   ],
   "source": [
    "a=[1,2,4,6,'bird']\n",
    "print(a[0]) # 运行结果：1\n",
    "print(a[2]) # 运行结果：4\n",
    "print(a[4]) # 运行结果：bird\n",
    "print(a[-1])  # 运行结果：[1, 2]"
   ]
  },
  {
   "cell_type": "markdown",
   "metadata": {},
   "source": [
    "## 2.3 分片"
   ]
  },
  {
   "cell_type": "code",
   "execution_count": 11,
   "metadata": {},
   "outputs": [
    {
     "name": "stdout",
     "output_type": "stream",
     "text": [
      "[1, 2]\n",
      "[1, 4, 'bird']\n"
     ]
    }
   ],
   "source": [
    "print(a[0:2])  # 运行结果：[1,2]\n",
    "print(a[0::2]) # 运行结果：[1, 4, 'bird']"
   ]
  },
  {
   "cell_type": "markdown",
   "metadata": {},
   "source": [
    "## 2.4 修改列表操作"
   ]
  },
  {
   "cell_type": "code",
   "execution_count": 15,
   "metadata": {},
   "outputs": [
    {
     "name": "stdout",
     "output_type": "stream",
     "text": [
      "['Apple', 'Banana', 'Tomato']\n",
      "['Apple', 'Watermelon', 'Tomato']\n",
      "['Apple', 'Grape', 'Strawberry', 'Tomato']\n"
     ]
    }
   ],
   "source": [
    "# 和字符串不同，列表是有序、可变的,支持原处修改对象的操作\n",
    "fruit=['Apple','Banana','Tomato']\n",
    "print(fruit) # 运行结果：['Apple', 'Banana', 'Tomato']\n",
    "fruit[1]='Watermelon'\n",
    "print(fruit) # 运行结果：['Apple', 'Watermelon', 'Tomato']\n",
    "fruit[1:2]=['Grape','Strawberry'] # 运行结果['Apple', 'Grape', 'Strawberry', 'Tomato']\n",
    "print(fruit) "
   ]
  },
  {
   "cell_type": "markdown",
   "metadata": {},
   "source": [
    "# 三、常见的列表调用方法"
   ]
  },
  {
   "cell_type": "markdown",
   "metadata": {},
   "source": [
    "##  3.1 \"增\""
   ]
  },
  {
   "cell_type": "code",
   "execution_count": 31,
   "metadata": {},
   "outputs": [
    {
     "name": "stdout",
     "output_type": "stream",
     "text": [
      "['Apple', 'Banana', 'Tomato', 'Watermelon']\n",
      "['Apple', 'Banana', 'Tomato', 'Watermelon', ['w', 'h']]\n",
      "['Apple', 'Banana', 'Tomato', 'Watermelon', ['w', 'h'], 'Grape', 'Mango']\n"
     ]
    }
   ],
   "source": [
    "# L.append(X) 在末尾添加一项\n",
    "# L.extend() 在末端插入多个元素\n",
    "# L.insert(index,'') 在便宜出插入某个元素\n",
    "\n",
    "fruit=['Apple','Banana','Tomato']\n",
    "fruit.append('Watermelon')\n",
    "print(fruit) # 运行结果：['Apple', 'Banana', 'Tomato', 'Watermelon']\n",
    "fruit.append(['w','h'])\n",
    "print(fruit)  # 运行结果：['Apple', 'Banana', 'Tomato', 'Watermelon', ['w', 'h']]\n",
    "fruit.extend(['Grape','Mango'])\n",
    "print(fruit)"
   ]
  },
  {
   "cell_type": "markdown",
   "metadata": {},
   "source": [
    "## 3.2 \"删\""
   ]
  },
  {
   "cell_type": "code",
   "execution_count": 32,
   "metadata": {},
   "outputs": [
    {
     "name": "stdout",
     "output_type": "stream",
     "text": [
      "['Apple', 'Banana', 'Tomato', 'Watermelon', 'Grape', 'Mango']\n",
      "['Apple', 'Banana', 'Tomato', 'Watermelon']\n"
     ]
    }
   ],
   "source": [
    "# L.remove() 删除某个元素\n",
    "# L.pop() 在末端删除一个元素\n",
    "# del L[0] 删除某项或某个片段\n",
    "fruit.remove(['w', 'h']) # 运行结果：['Apple', 'Banana', 'Tomato', 'Watermelon', ['w', 'h'], 'Mango']\n",
    "print(fruit)\n",
    "fruit.pop() #删除末端'Mango'\n",
    "fruit.pop() #删除末端'Watermelon'\n",
    "print(fruit) # 运行结果：['Apple', 'Banana', 'Tomato', 'Watermelon']"
   ]
  },
  {
   "cell_type": "code",
   "execution_count": 34,
   "metadata": {},
   "outputs": [
    {
     "name": "stdout",
     "output_type": "stream",
     "text": [
      "['Apple', 'Banana']\n"
     ]
    }
   ],
   "source": [
    "del fruit[2:]\n",
    "print(fruit)"
   ]
  },
  {
   "cell_type": "markdown",
   "metadata": {},
   "source": [
    "## 3.3 \"查\""
   ]
  },
  {
   "cell_type": "code",
   "execution_count": 35,
   "metadata": {},
   "outputs": [
    {
     "data": {
      "text/plain": [
       "2"
      ]
     },
     "execution_count": 35,
     "metadata": {},
     "output_type": "execute_result"
    }
   ],
   "source": [
    "# L.index() 查找某元素的偏移\n",
    "fruit=['Apple','Banana','Tomato']\n",
    "fruit.index('Tomato')"
   ]
  },
  {
   "cell_type": "markdown",
   "metadata": {},
   "source": [
    "## 3.4 \"排序\""
   ]
  },
  {
   "cell_type": "code",
   "execution_count": 47,
   "metadata": {},
   "outputs": [
    {
     "name": "stdout",
     "output_type": "stream",
     "text": [
      "['Apple', 'Banana', 'Grape', 'Mango', 'Tomato']\n",
      "['Tomato', 'Mango', 'Grape', 'Banana', 'Apple']\n",
      "['Apple', 'Banana', 'Tomato', 'Mango', 'Grape']\n"
     ]
    }
   ],
   "source": [
    "# L.sort() or sorted(L)  排序,前者在原列表修改，后者生成新列表\n",
    "# L.reverse() 反转\n",
    "fruit=['Apple','Banana','Tomato','Mango','Grape']\n",
    "fruit.sort()\n",
    "print(fruit) # 原处修改，运行结果：['Apple', 'Banana', 'Grape', 'Mango', 'Tomato']\n",
    "fruit1=['Apple','Banana','Tomato','Mango','Grape']\n",
    "print(sorted(fruit1,reverse=True)) # 生成新对象，['Tomato', 'Mango', 'Grape', 'Banana', 'Apple']\n",
    "print(fruit1) # fruit1没有改变，['Apple', 'Banana', 'Tomato', 'Mango', 'Grape']"
   ]
  },
  {
   "cell_type": "markdown",
   "metadata": {},
   "source": []
  }
 ],
 "metadata": {
  "kernelspec": {
   "display_name": "Python 3",
   "language": "python",
   "name": "python3"
  },
  "language_info": {
   "codemirror_mode": {
    "name": "ipython",
    "version": 3
   },
   "file_extension": ".py",
   "mimetype": "text/x-python",
   "name": "python",
   "nbconvert_exporter": "python",
   "pygments_lexer": "ipython3",
   "version": "3.7.4"
  }
 },
 "nbformat": 4,
 "nbformat_minor": 2
}
