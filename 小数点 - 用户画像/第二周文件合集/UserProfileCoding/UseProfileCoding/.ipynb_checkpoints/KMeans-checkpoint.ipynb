{
 "cells": [
  {
   "cell_type": "code",
   "execution_count": 1,
   "metadata": {},
   "outputs": [],
   "source": [
    "#载入相关包\n",
    "import pandas as pd\n",
    "import numpy as np\n",
    "from datetime import datetime \n",
    "from sklearn.cluster import KMeans\n",
    "from sklearn.metrics import silhouette_score #轮廓系数，分离度\n",
    "import seaborn as sns\n",
    "import matplotlib.pyplot as plt\n",
    "import math\n",
    "import os"
   ]
  },
  {
   "cell_type": "code",
   "execution_count": 2,
   "metadata": {},
   "outputs": [
    {
     "data": {
      "text/html": [
       "<div>\n",
       "<style scoped>\n",
       "    .dataframe tbody tr th:only-of-type {\n",
       "        vertical-align: middle;\n",
       "    }\n",
       "\n",
       "    .dataframe tbody tr th {\n",
       "        vertical-align: top;\n",
       "    }\n",
       "\n",
       "    .dataframe thead th {\n",
       "        text-align: right;\n",
       "    }\n",
       "</style>\n",
       "<table border=\"1\" class=\"dataframe\">\n",
       "  <thead>\n",
       "    <tr style=\"text-align: right;\">\n",
       "      <th></th>\n",
       "      <th>num</th>\n",
       "      <th>Date</th>\n",
       "      <th>CustID</th>\n",
       "      <th>total</th>\n",
       "      <th>F</th>\n",
       "      <th>CustType</th>\n",
       "      <th>Provice</th>\n",
       "    </tr>\n",
       "  </thead>\n",
       "  <tbody>\n",
       "    <tr>\n",
       "      <th>0</th>\n",
       "      <td>1</td>\n",
       "      <td>2017/3/1</td>\n",
       "      <td>205</td>\n",
       "      <td>10771.34</td>\n",
       "      <td>105</td>\n",
       "      <td>自助成员</td>\n",
       "      <td>广西</td>\n",
       "    </tr>\n",
       "    <tr>\n",
       "      <th>1</th>\n",
       "      <td>2</td>\n",
       "      <td>2017/3/1</td>\n",
       "      <td>213</td>\n",
       "      <td>1416.05</td>\n",
       "      <td>5</td>\n",
       "      <td>线上成员</td>\n",
       "      <td>内蒙</td>\n",
       "    </tr>\n",
       "    <tr>\n",
       "      <th>2</th>\n",
       "      <td>3</td>\n",
       "      <td>2017/3/1</td>\n",
       "      <td>261</td>\n",
       "      <td>2015.64</td>\n",
       "      <td>13</td>\n",
       "      <td>线上成员</td>\n",
       "      <td>广西</td>\n",
       "    </tr>\n",
       "    <tr>\n",
       "      <th>3</th>\n",
       "      <td>4</td>\n",
       "      <td>2017/3/1</td>\n",
       "      <td>447</td>\n",
       "      <td>1430.97</td>\n",
       "      <td>16</td>\n",
       "      <td>线下成员</td>\n",
       "      <td>西藏</td>\n",
       "    </tr>\n",
       "    <tr>\n",
       "      <th>4</th>\n",
       "      <td>5</td>\n",
       "      <td>2017/3/1</td>\n",
       "      <td>451</td>\n",
       "      <td>524.31</td>\n",
       "      <td>48</td>\n",
       "      <td>自助成员</td>\n",
       "      <td>西藏</td>\n",
       "    </tr>\n",
       "  </tbody>\n",
       "</table>\n",
       "</div>"
      ],
      "text/plain": [
       "   num      Date CustID     total    F CustType Provice\n",
       "0    1  2017/3/1    205  10771.34  105     自助成员      广西\n",
       "1    2  2017/3/1    213   1416.05    5     线上成员      内蒙\n",
       "2    3  2017/3/1    261   2015.64   13     线上成员      广西\n",
       "3    4  2017/3/1    447   1430.97   16     线下成员      西藏\n",
       "4    5  2017/3/1    451    524.31   48     自助成员      西藏"
      ]
     },
     "execution_count": 2,
     "metadata": {},
     "output_type": "execute_result"
    }
   ],
   "source": [
    "#载入数据\n",
    "path=os.path.abspath('..')\n",
    "path1=path+'\\\\data\\\\CustData.csv'\n",
    "path1\n",
    "CustData=pd.read_csv(path1,encoding='gbk')\n",
    "CustData.columns=['num','Date','CustID','total','F','CustType','Provice']\n",
    "CustData.head()"
   ]
  },
  {
   "cell_type": "code",
   "execution_count": 3,
   "metadata": {},
   "outputs": [
    {
     "data": {
      "text/html": [
       "<div>\n",
       "<style scoped>\n",
       "    .dataframe tbody tr th:only-of-type {\n",
       "        vertical-align: middle;\n",
       "    }\n",
       "\n",
       "    .dataframe tbody tr th {\n",
       "        vertical-align: top;\n",
       "    }\n",
       "\n",
       "    .dataframe thead th {\n",
       "        text-align: right;\n",
       "    }\n",
       "</style>\n",
       "<table border=\"1\" class=\"dataframe\">\n",
       "  <thead>\n",
       "    <tr style=\"text-align: right;\">\n",
       "      <th></th>\n",
       "      <th>CustID</th>\n",
       "      <th>total</th>\n",
       "      <th>Date1</th>\n",
       "      <th>F</th>\n",
       "    </tr>\n",
       "  </thead>\n",
       "  <tbody>\n",
       "    <tr>\n",
       "      <th>0</th>\n",
       "      <td>1001-1431</td>\n",
       "      <td>929443.84</td>\n",
       "      <td>2017-06-27</td>\n",
       "      <td>250</td>\n",
       "    </tr>\n",
       "    <tr>\n",
       "      <th>1</th>\n",
       "      <td>1001-1432</td>\n",
       "      <td>398330.00</td>\n",
       "      <td>2017-05-26</td>\n",
       "      <td>106</td>\n",
       "    </tr>\n",
       "    <tr>\n",
       "      <th>2</th>\n",
       "      <td>1001-1433</td>\n",
       "      <td>445465.00</td>\n",
       "      <td>2017-06-21</td>\n",
       "      <td>120</td>\n",
       "    </tr>\n",
       "    <tr>\n",
       "      <th>3</th>\n",
       "      <td>1001-1434</td>\n",
       "      <td>212891.00</td>\n",
       "      <td>2017-05-24</td>\n",
       "      <td>57</td>\n",
       "    </tr>\n",
       "    <tr>\n",
       "      <th>4</th>\n",
       "      <td>1001-1438</td>\n",
       "      <td>269750.00</td>\n",
       "      <td>2017-06-21</td>\n",
       "      <td>66</td>\n",
       "    </tr>\n",
       "  </tbody>\n",
       "</table>\n",
       "</div>"
      ],
      "text/plain": [
       "      CustID      total      Date1    F\n",
       "0  1001-1431  929443.84 2017-06-27  250\n",
       "1  1001-1432  398330.00 2017-05-26  106\n",
       "2  1001-1433  445465.00 2017-06-21  120\n",
       "3  1001-1434  212891.00 2017-05-24   57\n",
       "4  1001-1438  269750.00 2017-06-21   66"
      ]
     },
     "execution_count": 3,
     "metadata": {},
     "output_type": "execute_result"
    }
   ],
   "source": [
    "#数据处理\n",
    "#CustData['Date'].groupby(['CustID']).agg(max_date)\n",
    "#CustData['M'].groupby([CustData['CustID']]).mean()\n",
    "CustData['Date1']=list(map(lambda x:datetime.strptime(x, '%Y/%m/%d'),CustData['Date']))\n",
    "CustDataR=CustData['Date1'].groupby([CustData['CustID']]).max().reset_index(drop=False)\n",
    "CustDataM=CustData['total'].groupby([CustData['CustID']]).sum().reset_index(drop=False)\n",
    "CustDataF=CustData['F'].groupby([CustData['CustID']]).sum().reset_index(drop=False)\n",
    "CustDataRFM=CustDataM.merge(CustDataR.merge(CustDataF,on='CustID',how='left'),on='CustID',how='left')\n",
    "CustDataRFM.head()"
   ]
  },
  {
   "cell_type": "code",
   "execution_count": 22,
   "metadata": {},
   "outputs": [
    {
     "data": {
      "text/html": [
       "<div>\n",
       "<style scoped>\n",
       "    .dataframe tbody tr th:only-of-type {\n",
       "        vertical-align: middle;\n",
       "    }\n",
       "\n",
       "    .dataframe tbody tr th {\n",
       "        vertical-align: top;\n",
       "    }\n",
       "\n",
       "    .dataframe thead th {\n",
       "        text-align: right;\n",
       "    }\n",
       "</style>\n",
       "<table border=\"1\" class=\"dataframe\">\n",
       "  <thead>\n",
       "    <tr style=\"text-align: right;\">\n",
       "      <th></th>\n",
       "      <th>R</th>\n",
       "      <th>F</th>\n",
       "      <th>M</th>\n",
       "    </tr>\n",
       "  </thead>\n",
       "  <tbody>\n",
       "    <tr>\n",
       "      <th>count</th>\n",
       "      <td>3912.000000</td>\n",
       "      <td>3912.000000</td>\n",
       "      <td>3.912000e+03</td>\n",
       "    </tr>\n",
       "    <tr>\n",
       "      <th>mean</th>\n",
       "      <td>28.252301</td>\n",
       "      <td>424.320297</td>\n",
       "      <td>4.301456e+05</td>\n",
       "    </tr>\n",
       "    <tr>\n",
       "      <th>std</th>\n",
       "      <td>34.583129</td>\n",
       "      <td>1336.619181</td>\n",
       "      <td>1.460494e+06</td>\n",
       "    </tr>\n",
       "    <tr>\n",
       "      <th>min</th>\n",
       "      <td>0.000000</td>\n",
       "      <td>1.000000</td>\n",
       "      <td>0.000000e+00</td>\n",
       "    </tr>\n",
       "    <tr>\n",
       "      <th>25%</th>\n",
       "      <td>2.000000</td>\n",
       "      <td>19.000000</td>\n",
       "      <td>1.500000e+02</td>\n",
       "    </tr>\n",
       "    <tr>\n",
       "      <th>50%</th>\n",
       "      <td>12.000000</td>\n",
       "      <td>40.000000</td>\n",
       "      <td>7.935205e+03</td>\n",
       "    </tr>\n",
       "    <tr>\n",
       "      <th>75%</th>\n",
       "      <td>43.000000</td>\n",
       "      <td>236.250000</td>\n",
       "      <td>1.397351e+05</td>\n",
       "    </tr>\n",
       "    <tr>\n",
       "      <th>max</th>\n",
       "      <td>121.000000</td>\n",
       "      <td>40476.000000</td>\n",
       "      <td>2.464285e+07</td>\n",
       "    </tr>\n",
       "  </tbody>\n",
       "</table>\n",
       "</div>"
      ],
      "text/plain": [
       "                 R             F             M\n",
       "count  3912.000000   3912.000000  3.912000e+03\n",
       "mean     28.252301    424.320297  4.301456e+05\n",
       "std      34.583129   1336.619181  1.460494e+06\n",
       "min       0.000000      1.000000  0.000000e+00\n",
       "25%       2.000000     19.000000  1.500000e+02\n",
       "50%      12.000000     40.000000  7.935205e+03\n",
       "75%      43.000000    236.250000  1.397351e+05\n",
       "max     121.000000  40476.000000  2.464285e+07"
      ]
     },
     "execution_count": 22,
     "metadata": {},
     "output_type": "execute_result"
    }
   ],
   "source": [
    "Max=max(CustDataRFM['Date1'])\n",
    "# 计算最近一次交易时间距离当前（数据采集日）的时间间隔\n",
    "CustDataRFM['R']=(Max-CustDataRFM['Date1']).dt.days\n",
    "CustDataRFM['M']=CustDataRFM['total']\n",
    "CustAna=CustDataRFM[['CustID','R','F','M']]\n",
    "CustAna[['R','F','M']].describe()"
   ]
  },
  {
   "cell_type": "code",
   "execution_count": 23,
   "metadata": {},
   "outputs": [
    {
     "name": "stdout",
     "output_type": "stream",
     "text": [
      "...绘制时间1min...\n"
     ]
    },
    {
     "data": {
      "text/plain": [
       "<seaborn.axisgrid.JointGrid at 0x15348e21888>"
      ]
     },
     "execution_count": 23,
     "metadata": {},
     "output_type": "execute_result"
    },
    {
     "data": {
      "image/png": "[encoded data removed]",
      "text/plain": [
       "<Figure size 432x432 with 3 Axes>"
      ]
     },
     "metadata": {},
     "output_type": "display_data"
    }
   ],
   "source": [
    "# 从金额和交易频率绘制密度图\n",
    "print(\"...绘制时间1min...\")\n",
    "with sns.axes_style('white'):\n",
    "    g=sns.jointplot(x=CustAna['F'],y=CustAna['M'],data=CustAna,kind='kde',color='k',shade_lowest=False)\n",
    "    \n",
    "g.plot_joint(plt.scatter,c='r',s=30,linewidth=1,marker=\"+\")"
   ]
  },
  {
   "cell_type": "code",
   "execution_count": 24,
   "metadata": {},
   "outputs": [
    {
     "name": "stdout",
     "output_type": "stream",
     "text": [
      "1.排除离群点干扰，并对最近一次交易时间间隔，交易金额进行归一化\n"
     ]
    }
   ],
   "source": [
    "print(\"1.排除离群点干扰，并对最近一次交易时间间隔，交易金额进行归一化\")\n",
    "def stdFuc(data,cols,quantile=0.99):\n",
    "    data['log']=[math.log(i+1) for i in  data[cols].reset_index(drop='False').tolist()]\n",
    "    Q=np.percentile(data['log'],quantile).__int__()\n",
    "    data[data['log']>Q]['log']<-Q\n",
    "    if (Q-min(data['log'])>0):\n",
    "        std=(data['log']-min(data['log']))/(Q-min(data['log']))\n",
    "    elif (max(data['log'])-min(data['log'])>0):\n",
    "        std=(data['log']-min(data['log']))/(max(data['log'])-min(data['log']))\n",
    "    else:\n",
    "        std=10\n",
    "    return std\n"
   ]
  },
  {
   "cell_type": "code",
   "execution_count": 26,
   "metadata": {},
   "outputs": [],
   "source": [
    "CustAna['std_R']=stdFuc(CustAna,'R',0.99)\n",
    "CustAna['std_F']=stdFuc(CustAna,'F',0.99)\n",
    "CustAna['std_M']=stdFuc(CustAna,'M',0.99)"
   ]
  },
  {
   "cell_type": "code",
   "execution_count": 27,
   "metadata": {},
   "outputs": [
    {
     "data": {
      "text/html": [
       "<div>\n",
       "<style scoped>\n",
       "    .dataframe tbody tr th:only-of-type {\n",
       "        vertical-align: middle;\n",
       "    }\n",
       "\n",
       "    .dataframe tbody tr th {\n",
       "        vertical-align: top;\n",
       "    }\n",
       "\n",
       "    .dataframe thead th {\n",
       "        text-align: right;\n",
       "    }\n",
       "</style>\n",
       "<table border=\"1\" class=\"dataframe\">\n",
       "  <thead>\n",
       "    <tr style=\"text-align: right;\">\n",
       "      <th></th>\n",
       "      <th>CustID</th>\n",
       "      <th>R</th>\n",
       "      <th>F</th>\n",
       "      <th>M</th>\n",
       "      <th>log</th>\n",
       "      <th>std_R</th>\n",
       "      <th>std_F</th>\n",
       "      <th>std_M</th>\n",
       "    </tr>\n",
       "  </thead>\n",
       "  <tbody>\n",
       "    <tr>\n",
       "      <th>0</th>\n",
       "      <td>1001-1431</td>\n",
       "      <td>3</td>\n",
       "      <td>250</td>\n",
       "      <td>929443.84</td>\n",
       "      <td>13.742343</td>\n",
       "      <td>0.288570</td>\n",
       "      <td>0.487356</td>\n",
       "      <td>0.807423</td>\n",
       "    </tr>\n",
       "    <tr>\n",
       "      <th>1</th>\n",
       "      <td>1001-1432</td>\n",
       "      <td>35</td>\n",
       "      <td>106</td>\n",
       "      <td>398330.00</td>\n",
       "      <td>12.895039</td>\n",
       "      <td>0.745942</td>\n",
       "      <td>0.401366</td>\n",
       "      <td>0.757640</td>\n",
       "    </tr>\n",
       "    <tr>\n",
       "      <th>2</th>\n",
       "      <td>1001-1433</td>\n",
       "      <td>9</td>\n",
       "      <td>120</td>\n",
       "      <td>445465.00</td>\n",
       "      <td>13.006876</td>\n",
       "      <td>0.479304</td>\n",
       "      <td>0.413767</td>\n",
       "      <td>0.764211</td>\n",
       "    </tr>\n",
       "    <tr>\n",
       "      <th>3</th>\n",
       "      <td>1001-1434</td>\n",
       "      <td>37</td>\n",
       "      <td>57</td>\n",
       "      <td>212891.00</td>\n",
       "      <td>12.268540</td>\n",
       "      <td>0.757196</td>\n",
       "      <td>0.339605</td>\n",
       "      <td>0.720831</td>\n",
       "    </tr>\n",
       "    <tr>\n",
       "      <th>4</th>\n",
       "      <td>1001-1438</td>\n",
       "      <td>9</td>\n",
       "      <td>66</td>\n",
       "      <td>269750.00</td>\n",
       "      <td>12.505255</td>\n",
       "      <td>0.479304</td>\n",
       "      <td>0.354153</td>\n",
       "      <td>0.734739</td>\n",
       "    </tr>\n",
       "  </tbody>\n",
       "</table>\n",
       "</div>"
      ],
      "text/plain": [
       "      CustID   R    F          M        log     std_R     std_F     std_M\n",
       "0  1001-1431   3  250  929443.84  13.742343  0.288570  0.487356  0.807423\n",
       "1  1001-1432  35  106  398330.00  12.895039  0.745942  0.401366  0.757640\n",
       "2  1001-1433   9  120  445465.00  13.006876  0.479304  0.413767  0.764211\n",
       "3  1001-1434  37   57  212891.00  12.268540  0.757196  0.339605  0.720831\n",
       "4  1001-1438   9   66  269750.00  12.505255  0.479304  0.354153  0.734739"
      ]
     },
     "execution_count": 27,
     "metadata": {},
     "output_type": "execute_result"
    }
   ],
   "source": [
    "CustAna.head()"
   ]
  },
  {
   "cell_type": "code",
   "execution_count": 28,
   "metadata": {},
   "outputs": [
    {
     "data": {
      "text/plain": [
       "[<matplotlib.lines.Line2D at 0x15348802c88>]"
      ]
     },
     "execution_count": 28,
     "metadata": {},
     "output_type": "execute_result"
    },
    {
     "data": {
      "image/png": "[encoded data removed]",
      "text/plain": [
       "<Figure size 432x288 with 1 Axes>"
      ]
     },
     "metadata": {
      "needs_background": "light"
     },
     "output_type": "display_data"
    }
   ],
   "source": [
    "#SSE找到最优的K值，SSE越小越好\n",
    "KMS_RFM=CustAna.loc[:,['std_R','std_F','std_M']]\n",
    "SSE=[]\n",
    "for k in range(1,9):\n",
    "    clf=KMeans(n_clusters=k,random_state=123)\n",
    "    clf.fit(KMS_RFM)\n",
    "    SSE.append(clf.inertia_) #误差\n",
    "plt.xlabel('K')\n",
    "plt.ylabel('SSE')\n",
    "SSE\n",
    "plt.plot(range(1,9),SSE,'o-',color='orange')"
   ]
  },
  {
   "cell_type": "code",
   "execution_count": 29,
   "metadata": {},
   "outputs": [
    {
     "data": {
      "text/plain": [
       "[<matplotlib.lines.Line2D at 0x15348862688>]"
      ]
     },
     "execution_count": 29,
     "metadata": {},
     "output_type": "execute_result"
    },
    {
     "data": {
      "image/png": "[encoded data removed]",
      "text/plain": [
       "<Figure size 432x288 with 1 Axes>"
      ]
     },
     "metadata": {
      "needs_background": "light"
     },
     "output_type": "display_data"
    }
   ],
   "source": [
    "#轮廓系数法找到最优的K值，轮廓系数/分离度越大越好\n",
    "KMS_RFM=CustAna.loc[:,['std_R','std_F','std_M']]\n",
    "Scores=[]\n",
    "for k in range(2,9):\n",
    "    clf=KMeans(n_clusters=k,random_state=123)\n",
    "    clf.fit(KMS_RFM)\n",
    "    Scores.append(silhouette_score(KMS_RFM,clf.labels_,metric='euclidean')) #轮廓系数\n",
    "plt.xlabel('K')\n",
    "plt.ylabel('SSE')\n",
    "SSE\n",
    "plt.plot(range(2,9),Scores,'o-',color='orange')"
   ]
  },
  {
   "cell_type": "code",
   "execution_count": 30,
   "metadata": {},
   "outputs": [],
   "source": [
    "# 最优K=4\n",
    "clf=KMeans(n_clusters=4,random_state=123)\n",
    "clf.fit(KMS_RFM)\n",
    "Labels=clf.labels_\n",
    "CustAna['labels']=Labels"
   ]
  },
  {
   "cell_type": "code",
   "execution_count": 31,
   "metadata": {},
   "outputs": [],
   "source": [
    "centers=CustAna[['R','F','M']].groupby(CustAna['labels']).mean()\n",
    "r_med=np.median(CustAna['R'])\n",
    "f_med=np.median(CustAna['F'])\n",
    "m_med=np.median(CustAna['M'])\n"
   ]
  },
  {
   "cell_type": "code",
   "execution_count": 32,
   "metadata": {},
   "outputs": [
    {
     "data": {
      "text/html": [
       "<div>\n",
       "<style scoped>\n",
       "    .dataframe tbody tr th:only-of-type {\n",
       "        vertical-align: middle;\n",
       "    }\n",
       "\n",
       "    .dataframe tbody tr th {\n",
       "        vertical-align: top;\n",
       "    }\n",
       "\n",
       "    .dataframe thead th {\n",
       "        text-align: right;\n",
       "    }\n",
       "</style>\n",
       "<table border=\"1\" class=\"dataframe\">\n",
       "  <thead>\n",
       "    <tr style=\"text-align: right;\">\n",
       "      <th></th>\n",
       "      <th>R</th>\n",
       "      <th>F</th>\n",
       "      <th>M</th>\n",
       "    </tr>\n",
       "    <tr>\n",
       "      <th>labels</th>\n",
       "      <th></th>\n",
       "      <th></th>\n",
       "      <th></th>\n",
       "    </tr>\n",
       "  </thead>\n",
       "  <tbody>\n",
       "    <tr>\n",
       "      <th>0</th>\n",
       "      <td>31.224037</td>\n",
       "      <td>760.691949</td>\n",
       "      <td>1.015152e+06</td>\n",
       "    </tr>\n",
       "    <tr>\n",
       "      <th>1</th>\n",
       "      <td>65.857390</td>\n",
       "      <td>14.814175</td>\n",
       "      <td>2.897045e+03</td>\n",
       "    </tr>\n",
       "    <tr>\n",
       "      <th>2</th>\n",
       "      <td>1.155729</td>\n",
       "      <td>1069.716352</td>\n",
       "      <td>8.976842e+05</td>\n",
       "    </tr>\n",
       "    <tr>\n",
       "      <th>3</th>\n",
       "      <td>6.534535</td>\n",
       "      <td>29.242242</td>\n",
       "      <td>2.376354e+03</td>\n",
       "    </tr>\n",
       "  </tbody>\n",
       "</table>\n",
       "</div>"
      ],
      "text/plain": [
       "                R            F             M\n",
       "labels                                      \n",
       "0       31.224037   760.691949  1.015152e+06\n",
       "1       65.857390    14.814175  2.897045e+03\n",
       "2        1.155729  1069.716352  8.976842e+05\n",
       "3        6.534535    29.242242  2.376354e+03"
      ]
     },
     "execution_count": 32,
     "metadata": {},
     "output_type": "execute_result"
    }
   ],
   "source": [
    "centers"
   ]
  },
  {
   "cell_type": "code",
   "execution_count": 33,
   "metadata": {},
   "outputs": [],
   "source": [
    "# 给用户打上价值类型标签\n",
    "def tagType(cents,r_med,f_med,m_med):\n",
    "    tag={}\n",
    "    for i in range(len(cents)):\n",
    "        if cents.iloc[i,0] > r_med and cents.iloc[i,1] >f_med and cents.iloc[i,2] >m_med:\n",
    "            tag[i]='高价值客户'\n",
    "        elif cents.iloc[i,0] < r_med and cents.iloc[i,1] > f_med and cents.iloc[i,2] >m_med:\n",
    "            tag[i]='重点保持客户'\n",
    "        elif cents.iloc[i,0] > r_med and cents.iloc[i,1] < f_med and cents.iloc[i,2] >m_med:\n",
    "            tag[i]='重点发展客户'\n",
    "        elif cents.iloc[i,0] < r_med and cents.iloc[i,1] < f_med and cents.iloc[i,2] > m_med:\n",
    "            tag[i]='重点挽留客户'\n",
    "        elif cents.iloc[i,0] > r_med and cents.iloc[i,1] > f_med and cents.iloc[i,2] < m_med:\n",
    "            tag[i]='一般价值客户'\n",
    "        elif cents.iloc[i,0] < r_med and cents.iloc[i,1] > f_med and cents.iloc[i,2] < m_med:\n",
    "            tag[i]='一般保持客户'\n",
    "        elif cents.iloc[i,0] > r_med and cents.iloc[i,1] < f_med and cents.iloc[i,2] < m_med:\n",
    "            tag[i]='一般发展客户'\n",
    "        else:\n",
    "            tag[i]='潜在客户'\n",
    "    return tag"
   ]
  },
  {
   "cell_type": "code",
   "execution_count": 34,
   "metadata": {},
   "outputs": [
    {
     "data": {
      "text/html": [
       "<div>\n",
       "<style scoped>\n",
       "    .dataframe tbody tr th:only-of-type {\n",
       "        vertical-align: middle;\n",
       "    }\n",
       "\n",
       "    .dataframe tbody tr th {\n",
       "        vertical-align: top;\n",
       "    }\n",
       "\n",
       "    .dataframe thead th {\n",
       "        text-align: right;\n",
       "    }\n",
       "</style>\n",
       "<table border=\"1\" class=\"dataframe\">\n",
       "  <thead>\n",
       "    <tr style=\"text-align: right;\">\n",
       "      <th></th>\n",
       "      <th>labels</th>\n",
       "      <th>tag</th>\n",
       "    </tr>\n",
       "  </thead>\n",
       "  <tbody>\n",
       "    <tr>\n",
       "      <th>0</th>\n",
       "      <td>0</td>\n",
       "      <td>高价值客户</td>\n",
       "    </tr>\n",
       "    <tr>\n",
       "      <th>1</th>\n",
       "      <td>1</td>\n",
       "      <td>一般发展客户</td>\n",
       "    </tr>\n",
       "    <tr>\n",
       "      <th>2</th>\n",
       "      <td>2</td>\n",
       "      <td>重点保持客户</td>\n",
       "    </tr>\n",
       "    <tr>\n",
       "      <th>3</th>\n",
       "      <td>3</td>\n",
       "      <td>潜在客户</td>\n",
       "    </tr>\n",
       "  </tbody>\n",
       "</table>\n",
       "</div>"
      ],
      "text/plain": [
       "   labels     tag\n",
       "0       0   高价值客户\n",
       "1       1  一般发展客户\n",
       "2       2  重点保持客户\n",
       "3       3    潜在客户"
      ]
     },
     "execution_count": 34,
     "metadata": {},
     "output_type": "execute_result"
    }
   ],
   "source": [
    "tag=tagType(cents=centers,r_med=r_med,f_med=f_med,m_med=m_med)\n",
    "tag=pd.DataFrame.from_dict(tag, orient='index',columns=['tag']).reset_index(drop=False)\n",
    "tag.columns=['labels','tag']\n",
    "tag"
   ]
  },
  {
   "cell_type": "code",
   "execution_count": 35,
   "metadata": {},
   "outputs": [
    {
     "data": {
      "text/html": [
       "<div>\n",
       "<style scoped>\n",
       "    .dataframe tbody tr th:only-of-type {\n",
       "        vertical-align: middle;\n",
       "    }\n",
       "\n",
       "    .dataframe tbody tr th {\n",
       "        vertical-align: top;\n",
       "    }\n",
       "\n",
       "    .dataframe thead th {\n",
       "        text-align: right;\n",
       "    }\n",
       "</style>\n",
       "<table border=\"1\" class=\"dataframe\">\n",
       "  <thead>\n",
       "    <tr style=\"text-align: right;\">\n",
       "      <th></th>\n",
       "      <th>index</th>\n",
       "      <th>tag</th>\n",
       "    </tr>\n",
       "  </thead>\n",
       "  <tbody>\n",
       "    <tr>\n",
       "      <th>0</th>\n",
       "      <td>一般发展客户</td>\n",
       "      <td>29.575665</td>\n",
       "    </tr>\n",
       "    <tr>\n",
       "      <th>1</th>\n",
       "      <td>潜在客户</td>\n",
       "      <td>25.536810</td>\n",
       "    </tr>\n",
       "    <tr>\n",
       "      <th>2</th>\n",
       "      <td>重点保持客户</td>\n",
       "      <td>22.980573</td>\n",
       "    </tr>\n",
       "    <tr>\n",
       "      <th>3</th>\n",
       "      <td>高价值客户</td>\n",
       "      <td>21.906953</td>\n",
       "    </tr>\n",
       "  </tbody>\n",
       "</table>\n",
       "</div>"
      ],
      "text/plain": [
       "    index        tag\n",
       "0  一般发展客户  29.575665\n",
       "1    潜在客户  25.536810\n",
       "2  重点保持客户  22.980573\n",
       "3   高价值客户  21.906953"
      ]
     },
     "execution_count": 35,
     "metadata": {},
     "output_type": "execute_result"
    }
   ],
   "source": [
    "resultData=CustAna.merge(tag,on='labels',how='left')[['CustID','R','F','M','tag']]\n",
    "prt=(resultData['tag'].value_counts()/resultData['tag'].value_counts().sum()*100).reset_index(drop=False)\n",
    "prt"
   ]
  },
  {
   "cell_type": "code",
   "execution_count": 36,
   "metadata": {},
   "outputs": [
    {
     "data": {
      "image/png": "[encoded data removed]",
      "text/plain": [
       "<Figure size 432x288 with 1 Axes>"
      ]
     },
     "metadata": {},
     "output_type": "display_data"
    }
   ],
   "source": [
    "plt.axes(aspect=1)\n",
    "cmap = plt.cm.prism\n",
    "colors = [[1,0.8,0],[1,1,0.8],[1,0.5,0],[1,0.2,0]]\n",
    "plt.pie(x=prt['tag'],labels=['ordinary Customer','potential Customer','Important Customer','High Value Customer'],autopct='%3.1f %%',colors=colors)\n",
    "plt.show()"
   ]
  },
  {
   "cell_type": "code",
   "execution_count": null,
   "metadata": {},
   "outputs": [],
   "source": []
  }
 ],
 "metadata": {
  "kernelspec": {
   "display_name": "Python 3",
   "language": "python",
   "name": "python3"
  },
  "language_info": {
   "codemirror_mode": {
    "name": "ipython",
    "version": 3
   },
   "file_extension": ".py",
   "mimetype": "text/x-python",
   "name": "python",
   "nbconvert_exporter": "python",
   "pygments_lexer": "ipython3",
   "version": "3.7.6"
  }
 },
 "nbformat": 4,
 "nbformat_minor": 2
}
