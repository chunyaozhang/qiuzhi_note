{
 "cells": [
  {
   "cell_type": "code",
   "execution_count": 1,
   "metadata": {},
   "outputs": [],
   "source": [
    "#载入相关包\n",
    "import pandas as pd\n",
    "import numpy as np\n",
    "# conda intall scikit-learn 注意命令行模式先安装\n",
    "from sklearn.model_selection import train_test_split\n",
    "from sklearn.linear_model import LogisticRegression\n",
    "from sklearn import metrics\n",
    "import matplotlib.pyplot as plt\n",
    "import os\n",
    "from logisticFunc import dataPlot\n",
    "#新加入\n",
    "from sklearn.ensemble import GradientBoostingClassifier\n",
    "from IV import woe_single"
   ]
  },
  {
   "cell_type": "code",
   "execution_count": 2,
   "metadata": {},
   "outputs": [
    {
     "data": {
      "text/html": [
       "<div>\n",
       "<style scoped>\n",
       "    .dataframe tbody tr th:only-of-type {\n",
       "        vertical-align: middle;\n",
       "    }\n",
       "\n",
       "    .dataframe tbody tr th {\n",
       "        vertical-align: top;\n",
       "    }\n",
       "\n",
       "    .dataframe thead th {\n",
       "        text-align: right;\n",
       "    }\n",
       "</style>\n",
       "<table border=\"1\" class=\"dataframe\">\n",
       "  <thead>\n",
       "    <tr style=\"text-align: right;\">\n",
       "      <th></th>\n",
       "      <th>CUST_ID</th>\n",
       "      <th>OPEN_ACC_DUR</th>\n",
       "      <th>AGE</th>\n",
       "      <th>GENDER_CD</th>\n",
       "      <th>HASNT_HOME_ADDRESS_INF</th>\n",
       "      <th>HASNT_MOBILE_TEL_NUM_INF</th>\n",
       "      <th>LOCAL_CUR_SAV_SLOPE</th>\n",
       "      <th>LOCAL_CUR_MON_AVG_BAL</th>\n",
       "      <th>LOCAL_CUR_MON_AVG_BAL_PROP</th>\n",
       "      <th>LOCAL_CUR_ACCT_NUM</th>\n",
       "      <th>...</th>\n",
       "      <th>ATM_ALL_TX_NUM</th>\n",
       "      <th>COUNTER_NOT_ACCT_TX_NUM</th>\n",
       "      <th>COUNTER_ACCT_TX_AMT</th>\n",
       "      <th>COUNTER_ACCT_TX_NUM</th>\n",
       "      <th>COUNTER_ALL_TX_NUM</th>\n",
       "      <th>NAT_DEBT_OPEN_ACC_DUR</th>\n",
       "      <th>FINA_OPEN_ACC_DUR</th>\n",
       "      <th>FUND_OPEN_ACC_DUR</th>\n",
       "      <th>TELEBANK_ALL_TX_NUM</th>\n",
       "      <th>CHURN_CUST_IND</th>\n",
       "    </tr>\n",
       "  </thead>\n",
       "  <tbody>\n",
       "    <tr>\n",
       "      <th>0</th>\n",
       "      <td>1</td>\n",
       "      <td>231</td>\n",
       "      <td>82</td>\n",
       "      <td>1</td>\n",
       "      <td>Y</td>\n",
       "      <td>N</td>\n",
       "      <td>0.000000</td>\n",
       "      <td>0.00</td>\n",
       "      <td>0.000000</td>\n",
       "      <td>0</td>\n",
       "      <td>...</td>\n",
       "      <td>0</td>\n",
       "      <td>0</td>\n",
       "      <td>12270</td>\n",
       "      <td>1</td>\n",
       "      <td>1</td>\n",
       "      <td>0</td>\n",
       "      <td>0</td>\n",
       "      <td>0</td>\n",
       "      <td>0</td>\n",
       "      <td>1</td>\n",
       "    </tr>\n",
       "    <tr>\n",
       "      <th>1</th>\n",
       "      <td>2</td>\n",
       "      <td>48</td>\n",
       "      <td>42</td>\n",
       "      <td>1</td>\n",
       "      <td>Y</td>\n",
       "      <td>N</td>\n",
       "      <td>1.005692</td>\n",
       "      <td>20149.04</td>\n",
       "      <td>0.264435</td>\n",
       "      <td>3</td>\n",
       "      <td>...</td>\n",
       "      <td>2</td>\n",
       "      <td>1</td>\n",
       "      <td>95024</td>\n",
       "      <td>6</td>\n",
       "      <td>7</td>\n",
       "      <td>0</td>\n",
       "      <td>0</td>\n",
       "      <td>0</td>\n",
       "      <td>0</td>\n",
       "      <td>1</td>\n",
       "    </tr>\n",
       "    <tr>\n",
       "      <th>2</th>\n",
       "      <td>3</td>\n",
       "      <td>102</td>\n",
       "      <td>31</td>\n",
       "      <td>2</td>\n",
       "      <td>Y</td>\n",
       "      <td>N</td>\n",
       "      <td>0.000562</td>\n",
       "      <td>17.81</td>\n",
       "      <td>1.000000</td>\n",
       "      <td>1</td>\n",
       "      <td>...</td>\n",
       "      <td>0</td>\n",
       "      <td>0</td>\n",
       "      <td>0</td>\n",
       "      <td>0</td>\n",
       "      <td>0</td>\n",
       "      <td>0</td>\n",
       "      <td>0</td>\n",
       "      <td>0</td>\n",
       "      <td>0</td>\n",
       "      <td>1</td>\n",
       "    </tr>\n",
       "    <tr>\n",
       "      <th>3</th>\n",
       "      <td>4</td>\n",
       "      <td>62</td>\n",
       "      <td>78</td>\n",
       "      <td>2</td>\n",
       "      <td>Y</td>\n",
       "      <td>N</td>\n",
       "      <td>-0.550912</td>\n",
       "      <td>29359.21</td>\n",
       "      <td>1.000000</td>\n",
       "      <td>1</td>\n",
       "      <td>...</td>\n",
       "      <td>1</td>\n",
       "      <td>0</td>\n",
       "      <td>0</td>\n",
       "      <td>0</td>\n",
       "      <td>0</td>\n",
       "      <td>0</td>\n",
       "      <td>0</td>\n",
       "      <td>0</td>\n",
       "      <td>0</td>\n",
       "      <td>1</td>\n",
       "    </tr>\n",
       "    <tr>\n",
       "      <th>4</th>\n",
       "      <td>5</td>\n",
       "      <td>79</td>\n",
       "      <td>46</td>\n",
       "      <td>1</td>\n",
       "      <td>Y</td>\n",
       "      <td>N</td>\n",
       "      <td>0.000288</td>\n",
       "      <td>34.68</td>\n",
       "      <td>1.000000</td>\n",
       "      <td>1</td>\n",
       "      <td>...</td>\n",
       "      <td>0</td>\n",
       "      <td>0</td>\n",
       "      <td>0</td>\n",
       "      <td>0</td>\n",
       "      <td>0</td>\n",
       "      <td>0</td>\n",
       "      <td>0</td>\n",
       "      <td>0</td>\n",
       "      <td>0</td>\n",
       "      <td>1</td>\n",
       "    </tr>\n",
       "  </tbody>\n",
       "</table>\n",
       "<p>5 rows × 54 columns</p>\n",
       "</div>"
      ],
      "text/plain": [
       "   CUST_ID  OPEN_ACC_DUR  AGE GENDER_CD HASNT_HOME_ADDRESS_INF  \\\n",
       "0        1           231   82         1                      Y   \n",
       "1        2            48   42         1                      Y   \n",
       "2        3           102   31         2                      Y   \n",
       "3        4            62   78         2                      Y   \n",
       "4        5            79   46         1                      Y   \n",
       "\n",
       "  HASNT_MOBILE_TEL_NUM_INF  LOCAL_CUR_SAV_SLOPE  LOCAL_CUR_MON_AVG_BAL  \\\n",
       "0                        N             0.000000                   0.00   \n",
       "1                        N             1.005692               20149.04   \n",
       "2                        N             0.000562                  17.81   \n",
       "3                        N            -0.550912               29359.21   \n",
       "4                        N             0.000288                  34.68   \n",
       "\n",
       "   LOCAL_CUR_MON_AVG_BAL_PROP  LOCAL_CUR_ACCT_NUM  ...  ATM_ALL_TX_NUM  \\\n",
       "0                    0.000000                   0  ...               0   \n",
       "1                    0.264435                   3  ...               2   \n",
       "2                    1.000000                   1  ...               0   \n",
       "3                    1.000000                   1  ...               1   \n",
       "4                    1.000000                   1  ...               0   \n",
       "\n",
       "   COUNTER_NOT_ACCT_TX_NUM  COUNTER_ACCT_TX_AMT  COUNTER_ACCT_TX_NUM  \\\n",
       "0                        0                12270                    1   \n",
       "1                        1                95024                    6   \n",
       "2                        0                    0                    0   \n",
       "3                        0                    0                    0   \n",
       "4                        0                    0                    0   \n",
       "\n",
       "   COUNTER_ALL_TX_NUM  NAT_DEBT_OPEN_ACC_DUR  FINA_OPEN_ACC_DUR  \\\n",
       "0                   1                      0                  0   \n",
       "1                   7                      0                  0   \n",
       "2                   0                      0                  0   \n",
       "3                   0                      0                  0   \n",
       "4                   0                      0                  0   \n",
       "\n",
       "   FUND_OPEN_ACC_DUR  TELEBANK_ALL_TX_NUM  CHURN_CUST_IND  \n",
       "0                  0                    0               1  \n",
       "1                  0                    0               1  \n",
       "2                  0                    0               1  \n",
       "3                  0                    0               1  \n",
       "4                  0                    0               1  \n",
       "\n",
       "[5 rows x 54 columns]"
      ]
     },
     "execution_count": 2,
     "metadata": {},
     "output_type": "execute_result"
    }
   ],
   "source": [
    "#载入数据\n",
    "path=os.path.abspath('..')\n",
    "path1=path+'\\\\data\\\\bankChurn.csv'\n",
    "bankData=pd.read_csv(path1,encoding='utf-8')\n",
    "bankData.head()"
   ]
  },
  {
   "cell_type": "code",
   "execution_count": 3,
   "metadata": {},
   "outputs": [
    {
     "data": {
      "text/html": [
       "<div>\n",
       "<style scoped>\n",
       "    .dataframe tbody tr th:only-of-type {\n",
       "        vertical-align: middle;\n",
       "    }\n",
       "\n",
       "    .dataframe tbody tr th {\n",
       "        vertical-align: top;\n",
       "    }\n",
       "\n",
       "    .dataframe thead th {\n",
       "        text-align: right;\n",
       "    }\n",
       "</style>\n",
       "<table border=\"1\" class=\"dataframe\">\n",
       "  <thead>\n",
       "    <tr style=\"text-align: right;\">\n",
       "      <th></th>\n",
       "      <th>CUST_ID</th>\n",
       "      <th>OPEN_ACC_DUR</th>\n",
       "      <th>AGE</th>\n",
       "      <th>LOCAL_CUR_SAV_SLOPE</th>\n",
       "      <th>LOCAL_CUR_MON_AVG_BAL</th>\n",
       "      <th>LOCAL_CUR_MON_AVG_BAL_PROP</th>\n",
       "      <th>LOCAL_CUR_ACCT_NUM</th>\n",
       "      <th>LOCAL_OVEONEYR_FF_MON_AVG_BAL</th>\n",
       "      <th>LOCAL_FIX_MON_AVG_BAL</th>\n",
       "      <th>LOCAL_FIX_MON_AVG_BAL_PROP</th>\n",
       "      <th>...</th>\n",
       "      <th>ATM_ALL_TX_NUM</th>\n",
       "      <th>COUNTER_NOT_ACCT_TX_NUM</th>\n",
       "      <th>COUNTER_ACCT_TX_AMT</th>\n",
       "      <th>COUNTER_ACCT_TX_NUM</th>\n",
       "      <th>COUNTER_ALL_TX_NUM</th>\n",
       "      <th>NAT_DEBT_OPEN_ACC_DUR</th>\n",
       "      <th>FINA_OPEN_ACC_DUR</th>\n",
       "      <th>FUND_OPEN_ACC_DUR</th>\n",
       "      <th>TELEBANK_ALL_TX_NUM</th>\n",
       "      <th>CHURN_CUST_IND</th>\n",
       "    </tr>\n",
       "  </thead>\n",
       "  <tbody>\n",
       "    <tr>\n",
       "      <th>count</th>\n",
       "      <td>17241.000000</td>\n",
       "      <td>17241.00000</td>\n",
       "      <td>17241.000000</td>\n",
       "      <td>17241.000000</td>\n",
       "      <td>1.724100e+04</td>\n",
       "      <td>17241.000000</td>\n",
       "      <td>17241.000000</td>\n",
       "      <td>1.724100e+04</td>\n",
       "      <td>1.724100e+04</td>\n",
       "      <td>17241.000000</td>\n",
       "      <td>...</td>\n",
       "      <td>17241.000000</td>\n",
       "      <td>17241.000000</td>\n",
       "      <td>1.724100e+04</td>\n",
       "      <td>17241.000000</td>\n",
       "      <td>17241.000000</td>\n",
       "      <td>17241.000000</td>\n",
       "      <td>17241.000000</td>\n",
       "      <td>17241.000000</td>\n",
       "      <td>17241.0</td>\n",
       "      <td>17241.000000</td>\n",
       "    </tr>\n",
       "    <tr>\n",
       "      <th>mean</th>\n",
       "      <td>8621.000000</td>\n",
       "      <td>80.10475</td>\n",
       "      <td>49.339481</td>\n",
       "      <td>-0.011627</td>\n",
       "      <td>2.773542e+04</td>\n",
       "      <td>0.373216</td>\n",
       "      <td>1.796880</td>\n",
       "      <td>7.202392e+04</td>\n",
       "      <td>8.390765e+04</td>\n",
       "      <td>0.587804</td>\n",
       "      <td>...</td>\n",
       "      <td>0.597761</td>\n",
       "      <td>0.322313</td>\n",
       "      <td>3.272639e+04</td>\n",
       "      <td>1.303347</td>\n",
       "      <td>1.625660</td>\n",
       "      <td>-1262.148367</td>\n",
       "      <td>-1017.557914</td>\n",
       "      <td>-967.307001</td>\n",
       "      <td>0.0</td>\n",
       "      <td>0.100980</td>\n",
       "    </tr>\n",
       "    <tr>\n",
       "      <th>std</th>\n",
       "      <td>4977.192331</td>\n",
       "      <td>34.94432</td>\n",
       "      <td>15.431282</td>\n",
       "      <td>0.407344</td>\n",
       "      <td>9.860820e+04</td>\n",
       "      <td>0.438130</td>\n",
       "      <td>3.503054</td>\n",
       "      <td>1.289818e+05</td>\n",
       "      <td>3.602696e+05</td>\n",
       "      <td>0.443246</td>\n",
       "      <td>...</td>\n",
       "      <td>4.974549</td>\n",
       "      <td>0.870298</td>\n",
       "      <td>1.531975e+05</td>\n",
       "      <td>4.093381</td>\n",
       "      <td>4.560893</td>\n",
       "      <td>10929.030591</td>\n",
       "      <td>9825.499880</td>\n",
       "      <td>9583.391244</td>\n",
       "      <td>0.0</td>\n",
       "      <td>0.301311</td>\n",
       "    </tr>\n",
       "    <tr>\n",
       "      <th>min</th>\n",
       "      <td>1.000000</td>\n",
       "      <td>0.00000</td>\n",
       "      <td>4.000000</td>\n",
       "      <td>-1.000000</td>\n",
       "      <td>0.000000e+00</td>\n",
       "      <td>0.000000</td>\n",
       "      <td>0.000000</td>\n",
       "      <td>0.000000e+00</td>\n",
       "      <td>0.000000e+00</td>\n",
       "      <td>0.000000</td>\n",
       "      <td>...</td>\n",
       "      <td>0.000000</td>\n",
       "      <td>0.000000</td>\n",
       "      <td>0.000000e+00</td>\n",
       "      <td>0.000000</td>\n",
       "      <td>0.000000</td>\n",
       "      <td>-95877.000000</td>\n",
       "      <td>-95877.000000</td>\n",
       "      <td>-95877.000000</td>\n",
       "      <td>0.0</td>\n",
       "      <td>0.000000</td>\n",
       "    </tr>\n",
       "    <tr>\n",
       "      <th>25%</th>\n",
       "      <td>4311.000000</td>\n",
       "      <td>56.00000</td>\n",
       "      <td>38.000000</td>\n",
       "      <td>-0.087996</td>\n",
       "      <td>5.153000e+01</td>\n",
       "      <td>0.005796</td>\n",
       "      <td>1.000000</td>\n",
       "      <td>0.000000e+00</td>\n",
       "      <td>0.000000e+00</td>\n",
       "      <td>0.000000</td>\n",
       "      <td>...</td>\n",
       "      <td>0.000000</td>\n",
       "      <td>0.000000</td>\n",
       "      <td>0.000000e+00</td>\n",
       "      <td>0.000000</td>\n",
       "      <td>0.000000</td>\n",
       "      <td>0.000000</td>\n",
       "      <td>0.000000</td>\n",
       "      <td>0.000000</td>\n",
       "      <td>0.0</td>\n",
       "      <td>0.000000</td>\n",
       "    </tr>\n",
       "    <tr>\n",
       "      <th>50%</th>\n",
       "      <td>8621.000000</td>\n",
       "      <td>75.00000</td>\n",
       "      <td>47.000000</td>\n",
       "      <td>0.000000</td>\n",
       "      <td>3.232020e+03</td>\n",
       "      <td>0.091914</td>\n",
       "      <td>1.000000</td>\n",
       "      <td>5.000000e+04</td>\n",
       "      <td>5.667727e+04</td>\n",
       "      <td>0.854396</td>\n",
       "      <td>...</td>\n",
       "      <td>0.000000</td>\n",
       "      <td>0.000000</td>\n",
       "      <td>0.000000e+00</td>\n",
       "      <td>0.000000</td>\n",
       "      <td>0.000000</td>\n",
       "      <td>0.000000</td>\n",
       "      <td>0.000000</td>\n",
       "      <td>0.000000</td>\n",
       "      <td>0.0</td>\n",
       "      <td>0.000000</td>\n",
       "    </tr>\n",
       "    <tr>\n",
       "      <th>75%</th>\n",
       "      <td>12931.000000</td>\n",
       "      <td>104.00000</td>\n",
       "      <td>59.000000</td>\n",
       "      <td>0.074506</td>\n",
       "      <td>2.311346e+04</td>\n",
       "      <td>1.000000</td>\n",
       "      <td>2.000000</td>\n",
       "      <td>9.500000e+04</td>\n",
       "      <td>1.011250e+05</td>\n",
       "      <td>0.990436</td>\n",
       "      <td>...</td>\n",
       "      <td>0.000000</td>\n",
       "      <td>0.000000</td>\n",
       "      <td>1.200000e+04</td>\n",
       "      <td>2.000000</td>\n",
       "      <td>2.000000</td>\n",
       "      <td>0.000000</td>\n",
       "      <td>0.000000</td>\n",
       "      <td>0.000000</td>\n",
       "      <td>0.0</td>\n",
       "      <td>0.000000</td>\n",
       "    </tr>\n",
       "    <tr>\n",
       "      <th>max</th>\n",
       "      <td>17241.000000</td>\n",
       "      <td>278.00000</td>\n",
       "      <td>110.000000</td>\n",
       "      <td>2.000000</td>\n",
       "      <td>7.610110e+06</td>\n",
       "      <td>1.000000</td>\n",
       "      <td>399.000000</td>\n",
       "      <td>5.561334e+06</td>\n",
       "      <td>4.358232e+07</td>\n",
       "      <td>1.000000</td>\n",
       "      <td>...</td>\n",
       "      <td>261.000000</td>\n",
       "      <td>24.000000</td>\n",
       "      <td>6.402993e+06</td>\n",
       "      <td>307.000000</td>\n",
       "      <td>331.000000</td>\n",
       "      <td>85.000000</td>\n",
       "      <td>24.000000</td>\n",
       "      <td>43.000000</td>\n",
       "      <td>0.0</td>\n",
       "      <td>1.000000</td>\n",
       "    </tr>\n",
       "  </tbody>\n",
       "</table>\n",
       "<p>8 rows × 51 columns</p>\n",
       "</div>"
      ],
      "text/plain": [
       "            CUST_ID  OPEN_ACC_DUR           AGE  LOCAL_CUR_SAV_SLOPE  \\\n",
       "count  17241.000000   17241.00000  17241.000000         17241.000000   \n",
       "mean    8621.000000      80.10475     49.339481            -0.011627   \n",
       "std     4977.192331      34.94432     15.431282             0.407344   \n",
       "min        1.000000       0.00000      4.000000            -1.000000   \n",
       "25%     4311.000000      56.00000     38.000000            -0.087996   \n",
       "50%     8621.000000      75.00000     47.000000             0.000000   \n",
       "75%    12931.000000     104.00000     59.000000             0.074506   \n",
       "max    17241.000000     278.00000    110.000000             2.000000   \n",
       "\n",
       "       LOCAL_CUR_MON_AVG_BAL  LOCAL_CUR_MON_AVG_BAL_PROP  LOCAL_CUR_ACCT_NUM  \\\n",
       "count           1.724100e+04                17241.000000        17241.000000   \n",
       "mean            2.773542e+04                    0.373216            1.796880   \n",
       "std             9.860820e+04                    0.438130            3.503054   \n",
       "min             0.000000e+00                    0.000000            0.000000   \n",
       "25%             5.153000e+01                    0.005796            1.000000   \n",
       "50%             3.232020e+03                    0.091914            1.000000   \n",
       "75%             2.311346e+04                    1.000000            2.000000   \n",
       "max             7.610110e+06                    1.000000          399.000000   \n",
       "\n",
       "       LOCAL_OVEONEYR_FF_MON_AVG_BAL  LOCAL_FIX_MON_AVG_BAL  \\\n",
       "count                   1.724100e+04           1.724100e+04   \n",
       "mean                    7.202392e+04           8.390765e+04   \n",
       "std                     1.289818e+05           3.602696e+05   \n",
       "min                     0.000000e+00           0.000000e+00   \n",
       "25%                     0.000000e+00           0.000000e+00   \n",
       "50%                     5.000000e+04           5.667727e+04   \n",
       "75%                     9.500000e+04           1.011250e+05   \n",
       "max                     5.561334e+06           4.358232e+07   \n",
       "\n",
       "       LOCAL_FIX_MON_AVG_BAL_PROP  ...  ATM_ALL_TX_NUM  \\\n",
       "count                17241.000000  ...    17241.000000   \n",
       "mean                     0.587804  ...        0.597761   \n",
       "std                      0.443246  ...        4.974549   \n",
       "min                      0.000000  ...        0.000000   \n",
       "25%                      0.000000  ...        0.000000   \n",
       "50%                      0.854396  ...        0.000000   \n",
       "75%                      0.990436  ...        0.000000   \n",
       "max                      1.000000  ...      261.000000   \n",
       "\n",
       "       COUNTER_NOT_ACCT_TX_NUM  COUNTER_ACCT_TX_AMT  COUNTER_ACCT_TX_NUM  \\\n",
       "count             17241.000000         1.724100e+04         17241.000000   \n",
       "mean                  0.322313         3.272639e+04             1.303347   \n",
       "std                   0.870298         1.531975e+05             4.093381   \n",
       "min                   0.000000         0.000000e+00             0.000000   \n",
       "25%                   0.000000         0.000000e+00             0.000000   \n",
       "50%                   0.000000         0.000000e+00             0.000000   \n",
       "75%                   0.000000         1.200000e+04             2.000000   \n",
       "max                  24.000000         6.402993e+06           307.000000   \n",
       "\n",
       "       COUNTER_ALL_TX_NUM  NAT_DEBT_OPEN_ACC_DUR  FINA_OPEN_ACC_DUR  \\\n",
       "count        17241.000000           17241.000000       17241.000000   \n",
       "mean             1.625660           -1262.148367       -1017.557914   \n",
       "std              4.560893           10929.030591        9825.499880   \n",
       "min              0.000000          -95877.000000      -95877.000000   \n",
       "25%              0.000000               0.000000           0.000000   \n",
       "50%              0.000000               0.000000           0.000000   \n",
       "75%              2.000000               0.000000           0.000000   \n",
       "max            331.000000              85.000000          24.000000   \n",
       "\n",
       "       FUND_OPEN_ACC_DUR  TELEBANK_ALL_TX_NUM  CHURN_CUST_IND  \n",
       "count       17241.000000              17241.0    17241.000000  \n",
       "mean         -967.307001                  0.0        0.100980  \n",
       "std          9583.391244                  0.0        0.301311  \n",
       "min        -95877.000000                  0.0        0.000000  \n",
       "25%             0.000000                  0.0        0.000000  \n",
       "50%             0.000000                  0.0        0.000000  \n",
       "75%             0.000000                  0.0        0.000000  \n",
       "max            43.000000                  0.0        1.000000  \n",
       "\n",
       "[8 rows x 51 columns]"
      ]
     },
     "execution_count": 3,
     "metadata": {},
     "output_type": "execute_result"
    }
   ],
   "source": [
    "#查看数据\n",
    "bankData.describe()\n"
   ]
  },
  {
   "cell_type": "code",
   "execution_count": 4,
   "metadata": {},
   "outputs": [],
   "source": [
    "bankDataMd=bankData"
   ]
  },
  {
   "cell_type": "markdown",
   "metadata": {},
   "source": [
    "# 描述性统计分析"
   ]
  },
  {
   "cell_type": "code",
   "execution_count": 5,
   "metadata": {},
   "outputs": [
    {
     "name": "stdout",
     "output_type": "stream",
     "text": [
      "0    15500\n",
      "1     1741\n",
      "Name: CHURN_CUST_IND, dtype: int64\n"
     ]
    }
   ],
   "source": [
    "# 由于正负样本比例近10：1，所有采用欠采样方法将正负样本比例调整到1:1或者1:2\n",
    "print(bankData['CHURN_CUST_IND'].value_counts())"
   ]
  },
  {
   "cell_type": "markdown",
   "metadata": {},
   "source": [
    "## 性别"
   ]
  },
  {
   "cell_type": "code",
   "execution_count": 6,
   "metadata": {
    "scrolled": true
   },
   "outputs": [
    {
     "name": "stdout",
     "output_type": "stream",
     "text": [
      "GENDER_CD  CHURN_CUST_IND\n",
      "1          0                 0.885625\n",
      "           1                 0.114375\n",
      "2          0                 0.912000\n",
      "           1                 0.088000\n",
      "z          0                 0.760000\n",
      "           1                 0.240000\n",
      "Name: GENDER_CD, dtype: float64\n",
      "['1', '2', 'z']\n",
      "GENDER_CD\n",
      "1    113.264532\n",
      "2     87.145778\n",
      "z    237.670304\n",
      "Name: 1, dtype: float64\n",
      "[113, 87, 237]\n",
      "[48, 51, 0]\n"
     ]
    }
   ],
   "source": [
    "gender=bankData[['GENDER_CD','CHURN_CUST_IND']]\n",
    "Grouped1=gender.groupby(['GENDER_CD','CHURN_CUST_IND'])['GENDER_CD'].count()/gender.groupby(['GENDER_CD'])['GENDER_CD'].count()\n",
    "#不同类型所占百分比\n",
    "print(Grouped1)\n",
    "unGrouped1=Grouped1.unstack()\n",
    "Grouped3=gender.groupby('CHURN_CUST_IND')['CHURN_CUST_IND'].count()/len(gender)\n",
    "#print(Grouped3)\n",
    "# TGI\n",
    "print(unGrouped1.index.tolist())\n",
    "TGI=(unGrouped1[1]/Grouped3.loc[1])*100\n",
    "print(TGI)\n",
    "x1=gender.groupby('GENDER_CD')['GENDER_CD'].count()*100/len(gender)\n",
    "NTGI=[]\n",
    "TGI=[int(x) for x in TGI.values]\n",
    "x1=[int(x) for x in x1.values]\n",
    "print(TGI)\n",
    "print(x1)"
   ]
  },
  {
   "cell_type": "code",
   "execution_count": 7,
   "metadata": {},
   "outputs": [
    {
     "data": {
      "image/png": "[encoded data removed]",
      "text/plain": [
       "<Figure size 288x288 with 1 Axes>"
      ]
     },
     "metadata": {
      "needs_background": "light"
     },
     "output_type": "display_data"
    }
   ],
   "source": [
    "plt.figure(figsize=(4,4))\n",
    "plt.bar(['1','2','z'],x1,color='c')\n",
    "plt.plot(['1','2','z'],TGI,linestyle='-',c='r',marker='o')\n",
    "for a, b in zip(['1','2','z'], TGI):\n",
    "    plt.text(a, b, b, ha='center', va='bottom', fontsize=10)\n",
    "for a, b in zip(['1','2','z'], x1):\n",
    "    plt.text(a, b, b, ha='center', va='bottom', fontsize=10)"
   ]
  },
  {
   "cell_type": "markdown",
   "metadata": {},
   "source": [
    "# 年龄\n"
   ]
  },
  {
   "cell_type": "code",
   "execution_count": 8,
   "metadata": {},
   "outputs": [
    {
     "data": {
      "text/plain": [
       "<matplotlib.lines.Line2D at 0x2d2fbc79048>"
      ]
     },
     "execution_count": 8,
     "metadata": {},
     "output_type": "execute_result"
    },
    {
     "data": {
      "image/png": "[encoded data removed]",
      "text/plain": [
       "<Figure size 432x288 with 2 Axes>"
      ]
     },
     "metadata": {
      "needs_background": "light"
     },
     "output_type": "display_data"
    }
   ],
   "source": [
    "resultAge=dataPlot(bankData,'AGE','CHURN_CUST_IND')\n",
    "fig, ax1 = plt.subplots()\n",
    "ax2 = ax1.twinx()\n",
    "ax1.bar(resultAge['name'],resultAge['x1'],color='c')\n",
    "ax2.plot(resultAge['name'],resultAge['TGI'],linestyle='-',c='r')\n",
    "ax2.axhline(100,linestyle='-',c='grey')"
   ]
  },
  {
   "cell_type": "markdown",
   "metadata": {},
   "source": [
    "# 开户时长"
   ]
  },
  {
   "cell_type": "code",
   "execution_count": 9,
   "metadata": {},
   "outputs": [
    {
     "data": {
      "text/plain": [
       "<matplotlib.lines.Line2D at 0x2d2fc1dabc8>"
      ]
     },
     "execution_count": 9,
     "metadata": {},
     "output_type": "execute_result"
    },
    {
     "data": {
      "image/png": "[encoded data removed]",
      "text/plain": [
       "<Figure size 432x288 with 2 Axes>"
      ]
     },
     "metadata": {
      "needs_background": "light"
     },
     "output_type": "display_data"
    }
   ],
   "source": [
    "#bankData['OPEN_ACC_DUR1']=round(bankData['OPEN_ACC_DUR'],0)\n",
    "resultCurSav=dataPlot(bankData,'OPEN_ACC_DUR','CHURN_CUST_IND')\n",
    "fig, ax1 = plt.subplots()\n",
    "ax2 = ax1.twinx()\n",
    "ax1.bar(resultCurSav['name'],resultCurSav['x1'],color='c')\n",
    "ax2.plot(resultCurSav['name'],resultCurSav['TGI'],linestyle='-',c='r')\n",
    "ax2.axhline(100,linestyle='-',c='grey')"
   ]
  },
  {
   "cell_type": "markdown",
   "metadata": {},
   "source": [
    "# 本币活期月均月占比"
   ]
  },
  {
   "cell_type": "code",
   "execution_count": 10,
   "metadata": {
    "scrolled": true
   },
   "outputs": [
    {
     "data": {
      "text/plain": [
       "<matplotlib.lines.Line2D at 0x2d2fbb9e088>"
      ]
     },
     "execution_count": 10,
     "metadata": {},
     "output_type": "execute_result"
    },
    {
     "data": {
      "image/png": "[encoded data removed]",
      "text/plain": [
       "<Figure size 432x288 with 2 Axes>"
      ]
     },
     "metadata": {
      "needs_background": "light"
     },
     "output_type": "display_data"
    }
   ],
   "source": [
    "bankData['LOCAL_CUR_MON_AVG_BAL_PROP1']=round(bankData['LOCAL_CUR_MON_AVG_BAL_PROP'],2)\n",
    "MONAVGBALPrt=dataPlot(bankData,'LOCAL_CUR_MON_AVG_BAL_PROP1','CHURN_CUST_IND')\n",
    "fig, ax1 = plt.subplots()\n",
    "ax2 = ax1.twinx()\n",
    "ax1.bar(MONAVGBALPrt['name'],MONAVGBALPrt['x1'],color='c')\n",
    "ax2.plot(MONAVGBALPrt['name'],MONAVGBALPrt['TGI'],linestyle='-',c='r')\n",
    "ax2.axhline(100,linestyle='-',c='grey')"
   ]
  },
  {
   "cell_type": "markdown",
   "metadata": {},
   "source": [
    "# 存款波动率"
   ]
  },
  {
   "cell_type": "code",
   "execution_count": 11,
   "metadata": {},
   "outputs": [
    {
     "data": {
      "text/plain": [
       "<matplotlib.lines.Line2D at 0x2d2fc5e6f88>"
      ]
     },
     "execution_count": 11,
     "metadata": {},
     "output_type": "execute_result"
    },
    {
     "data": {
      "image/png": "[encoded data removed]",
      "text/plain": [
       "<Figure size 432x288 with 2 Axes>"
      ]
     },
     "metadata": {
      "needs_background": "light"
     },
     "output_type": "display_data"
    }
   ],
   "source": [
    "bankData['SAV_SLOPE1']=round(bankData['SAV_SLOPE'],1)\n",
    "SAV_SLOP=dataPlot(bankData,'SAV_SLOPE1','CHURN_CUST_IND')\n",
    "fig, ax1 = plt.subplots()\n",
    "ax2 = ax1.twinx()\n",
    "ax1.bar(SAV_SLOP['name'],SAV_SLOP['x1'],color='c')\n",
    "ax2.plot(SAV_SLOP['name'],SAV_SLOP['TGI'],linestyle='-',c='r')\n",
    "ax2.axhline(100,linestyle='-',c='grey')"
   ]
  },
  {
   "cell_type": "code",
   "execution_count": 12,
   "metadata": {},
   "outputs": [],
   "source": [
    "bankData_negtive=bankDataMd[bankDataMd['CHURN_CUST_IND']==1]\n",
    "bankData_postive=bankDataMd[bankDataMd['CHURN_CUST_IND']==0].sample(bankData_negtive.__len__(),replace=False)\n",
    "bankData_dealwith=pd.concat([bankData_negtive,bankData_postive])"
   ]
  },
  {
   "cell_type": "code",
   "execution_count": 13,
   "metadata": {},
   "outputs": [
    {
     "data": {
      "text/plain": [
       "['OPEN_ACC_DUR', 'AGE', 'GENDER_CD']"
      ]
     },
     "execution_count": 13,
     "metadata": {},
     "output_type": "execute_result"
    }
   ],
   "source": [
    "ALL_variables=list(bankData_dealwith.columns)\n",
    "ALL_variables=ALL_variables[1:ALL_variables.__len__()]\n",
    "ALL_variables[:3]"
   ]
  },
  {
   "cell_type": "code",
   "execution_count": 57,
   "metadata": {},
   "outputs": [
    {
     "name": "stderr",
     "output_type": "stream",
     "text": [
      "C:\\Users\\dell\\anaconda3\\lib\\site-packages\\pandas\\core\\reshape\\tile.py:254: RuntimeWarning: invalid value encountered in less\n",
      "  if (np.diff(bins.astype(\"float64\")) < 0).any():\n"
     ]
    },
    {
     "name": "stdout",
     "output_type": "stream",
     "text": [
      "NAT_DEBT_OPEN_ACC_DUR\n",
      "FINA_OPEN_ACC_DUR\n",
      "FUND_OPEN_ACC_DUR\n"
     ]
    },
    {
     "data": {
      "text/plain": [
       "['OPEN_ACC_DUR',\n",
       " 'AGE',\n",
       " 'LOCAL_CUR_MON_AVG_BAL_PROP',\n",
       " 'LOCAL_OVEONEYR_FF_MON_AVG_BAL',\n",
       " 'LOCAL_FIX_MON_AVG_BAL',\n",
       " 'LOCAL_FIX_MON_AVG_BAL_PROP',\n",
       " 'LOCAL_OVEONEYR_FF_SLOPE',\n",
       " 'LOCAL_SAV_SLOPE',\n",
       " 'LOCAL_SAV_CUR_ALL_BAL',\n",
       " 'LOCAL_SAV_MON_AVG_BAL',\n",
       " 'SAV_SLOPE',\n",
       " 'SAV_CUR_ALL_BAL',\n",
       " 'SAV_MON_AVG_BAL',\n",
       " 'ASSET_CUR_ALL_BAL',\n",
       " 'ASSET_MON_AVG_BAL',\n",
       " 'LOCAL_FIX_OPEN_ACC_TX_NUM',\n",
       " 'LOCAL_FIX_OPEN_ACC_TX_AMT',\n",
       " 'POS_CONSUME_TX_AMT',\n",
       " 'LOCAL_CUR_MON_AVG_BAL_PROP1',\n",
       " 'SAV_SLOPE1']"
      ]
     },
     "execution_count": 57,
     "metadata": {},
     "output_type": "execute_result"
    }
   ],
   "source": [
    "# 特征提取\n",
    "#V_WOE=woe_single(bankData_dealwith,bankData_dealwith[\"CHURN_CUST_IND\"],bankData_dealwith[\"GENDER_CD\"])\n",
    "IV={}\n",
    "for col in bankData_dealwith.columns:\n",
    "    if (col!='CUST_ID')&(col!='CHURN_CUST_IND'):\n",
    "        try:\n",
    "            IV[col]=woe_single(bankData_dealwith,bankData_dealwith['CHURN_CUST_IND'],bankData_dealwith[col])[3]\n",
    "        except Exception as e:\n",
    "            print(col)\n",
    "\n",
    "feature_importance=[]\n",
    "for key,value in zip(IV.keys(),IV.values()):\n",
    "    if value>0.1:\n",
    "        feature_importance.append(key)\n",
    "        \n",
    "feature_importance"
   ]
  },
  {
   "cell_type": "code",
   "execution_count": 48,
   "metadata": {},
   "outputs": [],
   "source": [
    "# 处理分类变量\n",
    "X=pd.get_dummies(bankData_dealwith[feature_importance])\n",
    "# 将数据集按章7:3或8:2分为训练集和测试集\n",
    "X_train,  X_test, y_train, y_test = train_test_split(np.array(X), np.array(bankData_dealwith['CHURN_CUST_IND']), test_size=0.8, random_state=1)"
   ]
  },
  {
   "cell_type": "code",
   "execution_count": 49,
   "metadata": {},
   "outputs": [
    {
     "name": "stdout",
     "output_type": "stream",
     "text": [
      "....<1>开始训练第一个逻辑回归模型...\n",
      "0.7442528735632183\n"
     ]
    }
   ],
   "source": [
    "print(\"....<1>开始训练第一个逻辑回归模型...\")\n",
    "LogsitcModel=LogisticRegression(C=1, class_weight=None, dual=False, fit_intercept=True,\n",
    "                   intercept_scaling=1, l1_ratio=None, max_iter=2000,\n",
    "                   multi_class='auto', n_jobs=None, penalty='l2',\n",
    "                   random_state=None, solver='lbfgs', tol=0.00001, verbose=0,\n",
    "                   warm_start=False)\n",
    "LogsitcModel.fit(X_train,y_train)\n",
    "print(LogsitcModel.score(X_train,y_train))\n"
   ]
  },
  {
   "cell_type": "code",
   "execution_count": 58,
   "metadata": {},
   "outputs": [
    {
     "name": "stdout",
     "output_type": "stream",
     "text": [
      "[0.00057499]\n",
      "[[ 4.17972466e-03  1.83458137e-02  2.03700956e-04 -2.00005244e-05\n",
      "  -8.07751881e-08  3.21795736e-04 -1.78971499e-04 -3.31283559e-04\n",
      "   3.00742325e-05 -1.90644023e-05 -3.31283559e-04  3.00742325e-05\n",
      "  -1.90644023e-05 -9.69499184e-05  6.58262103e-05 -1.10090242e-04\n",
      "  -1.44004733e-05  9.27049270e-06  2.03800046e-04 -3.34718639e-04]]\n"
     ]
    }
   ],
   "source": [
    "#dir(LogsitcModel)查看对象中有哪些方法\n",
    "print(LogsitcModel.intercept_)\n",
    "print(LogsitcModel.coef_)\n",
    "#Y=0.00059937+4.17972466e-03*OPEN_ACC_DUR+1.83458137e-02*AGE....."
   ]
  },
  {
   "cell_type": "code",
   "execution_count": 51,
   "metadata": {},
   "outputs": [
    {
     "name": "stdout",
     "output_type": "stream",
     "text": [
      "....<2>使用模型开始预测...\n",
      "1    1591\n",
      "0    1195\n",
      "Name: 0, dtype: int64\n",
      "0    1409\n",
      "1    1377\n",
      "Name: 0, dtype: int64\n"
     ]
    }
   ],
   "source": [
    "print(\"....<2>使用模型开始预测...\")\n",
    "y_pred=LogsitcModel.predict(X_test)\n",
    "print(pd.DataFrame(y_pred)[0].value_counts())\n",
    "print(pd.DataFrame(y_test)[0].value_counts())\n",
    "\n"
   ]
  },
  {
   "cell_type": "code",
   "execution_count": 52,
   "metadata": {},
   "outputs": [
    {
     "name": "stdout",
     "output_type": "stream",
     "text": [
      "[[ 923  486]\n",
      " [ 272 1105]]\n",
      "              precision    recall  f1-score   support\n",
      "\n",
      "           0       0.77      0.66      0.71      1409\n",
      "           1       0.69      0.80      0.74      1377\n",
      "\n",
      "    accuracy                           0.73      2786\n",
      "   macro avg       0.73      0.73      0.73      2786\n",
      "weighted avg       0.73      0.73      0.73      2786\n",
      "\n"
     ]
    }
   ],
   "source": [
    "print(metrics.confusion_matrix(y_test, y_pred))\n",
    "print(metrics.classification_report(y_test, y_pred))"
   ]
  },
  {
   "cell_type": "code",
   "execution_count": 53,
   "metadata": {},
   "outputs": [],
   "source": [
    "#[[ 996  413]\n",
    "# [ 314 1063]]\n",
    "#TP:正类预测为正类- 996\n",
    "#TN:正类预测成负类- 413\n",
    "#FP:负类预测成正类 - 314\n",
    "#FN:负类预测成负类 - 1063\n",
    "\n",
    "#上述：0 表示正样本，1表示负样本，流失用户\n",
    "# 0: precision=TP/TP+FP=996/(996+314)=0.   预测为非流失的用户中，命中的有多少？\n",
    "# 0: recall=TP/TP+TN=996/(996+413)=0.71      非流失用户中有多少是预测对的\n",
    "# 1: precision=FN/TN+FN=1063/(1063+413)=0.72  预测为流失用户中有多少命中的\n",
    "# 1: recall=FP/FP+FN=1063/(103+314)=0.77    流失的用户中有多少是预测对的\n",
    "\n",
    "#A:预测为A，实际为A的比率为precision\n",
    "#B：实际为A，预测为A的比率为recall\n",
    "\n",
    "#f1=2TP/(2TP+FP+FN)\n"
   ]
  },
  {
   "cell_type": "code",
   "execution_count": 54,
   "metadata": {},
   "outputs": [],
   "source": [
    "# 开始画图\n",
    "\n",
    "fpr,tpr,threshold = metrics.roc_curve(y_test, y_pred) ###计算真正率和假正率\n",
    "auc = metrics.auc(fpr,tpr)"
   ]
  },
  {
   "cell_type": "code",
   "execution_count": 56,
   "metadata": {},
   "outputs": [
    {
     "data": {
      "image/png": "[encoded data removed]",
      "text/plain": [
       "<Figure size 720x720 with 1 Axes>"
      ]
     },
     "metadata": {
      "needs_background": "light"
     },
     "output_type": "display_data"
    }
   ],
   "source": [
    "lw = 2\n",
    "plt.figure(figsize=(10,10))\n",
    "plt.plot(fpr, tpr, color='orange',lw=lw,label='ROC curve (area = %0.2f)' % auc) \n",
    "plt.plot([0, 1], [0, 1], color='lightgrey', lw=lw, linestyle='--')\n",
    "plt.xlim([0.0, 1.0])\n",
    "plt.ylim([0.0, 1.05])\n",
    "plt.xlabel('FPR')\n",
    "plt.ylabel('TPR')\n",
    "plt.title('ROC Curve')\n",
    "plt.legend(loc=\"lower right\")\n",
    "plt.show()"
   ]
  },
  {
   "cell_type": "code",
   "execution_count": null,
   "metadata": {},
   "outputs": [],
   "source": []
  }
 ],
 "metadata": {
  "kernelspec": {
   "display_name": "Python 3",
   "language": "python",
   "name": "python3"
  },
  "language_info": {
   "codemirror_mode": {
    "name": "ipython",
    "version": 3
   },
   "file_extension": ".py",
   "mimetype": "text/x-python",
   "name": "python",
   "nbconvert_exporter": "python",
   "pygments_lexer": "ipython3",
   "version": "3.7.6"
  }
 },
 "nbformat": 4,
 "nbformat_minor": 2
}
